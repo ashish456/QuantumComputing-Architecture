%matplotlib inline
# Importing standard Qiskit libraries and configuring account
get_ipython().run_line_magic('matplotlib', 'inline')
from qiskit import QuantumCircuit, execute, Aer, IBMQ
from qiskit.compiler import transpile, assemble
from qiskit.tools.jupyter import *
from qiskit.visualization import *
from qiskit.tools.monitor import job_monitor
# Loading your IBM Q account(s)
IBMQ.load_account()
IBMQ.providers()
-----
provider = IBMQ.get_provider(group='open')
print(provider)
provider.backends()
-----
import numpy as np
from math import pi
from qiskit import *
%matplotlib inline
#provider = IBMQ.load_account()
-----
# Create a Quantum Register with 5 qubits.
q = QuantumRegister(2, 'q')

# Create a Quantum Circuit acting on the q register
circ = QuantumCircuit(q)
-----
# init - entangle
circ.h(q[0])
circ.cx(q[0],q[1])
# Alice ZX & XZ give 11
# i gives 00 100%
# z gives 01 100%
# x gives 10 100%
# zx & xz gives 11 100%
#circ.z(q[0])
circ.x(q[0])
# Bob
circ.cx(q[0],q[1])
circ.h(q[0])
-----
c = ClassicalRegister(2, 'c')
# Create a Quantum Circuit
meas = QuantumCircuit(q, c)
meas.barrier(q)
# map the quantum measurement to the classical bits
meas.measure(q,c)

# The Qiskit circuit object supports composition using
# the addition operator.
qc = circ+meas

#drawing the circuit
qc.draw()
-----
# Use Aer's qasm_simulator
#stern = BasicAer.get_backend('qasm_simulator')
stern = provider.get_backend('ibmqx2')
print(stern)

# Execute the circuit on the qasm simulator.
# We've set the number of repeats of the circuit
# to be 1024, which is the default.
job_sim = execute(qc, backend=stern, shots=1024)
job_monitor(job_sim)

# Grab the results from the job.
result_sim = job_sim.result()
-----
counts = result_sim.get_counts(qc)
print(counts)
-----
from qiskit.visualization import plot_histogram
plot_histogram(counts)
